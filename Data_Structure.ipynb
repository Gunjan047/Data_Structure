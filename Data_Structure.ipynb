{
  "nbformat": 4,
  "nbformat_minor": 0,
  "metadata": {
    "colab": {
      "provenance": []
    },
    "kernelspec": {
      "name": "python3",
      "display_name": "Python 3"
    },
    "language_info": {
      "name": "python"
    }
  },
  "cells": [
    {
      "cell_type": "code",
      "execution_count": null,
      "metadata": {
        "id": "R0bUuFmgyKur"
      },
      "outputs": [],
      "source": []
    },
    {
      "cell_type": "markdown",
      "source": [
        "# **ASSIGNMENT ON DATA STRUCTURE**"
      ],
      "metadata": {
        "id": "vUJP7ne7yW8M"
      }
    },
    {
      "cell_type": "markdown",
      "source": [
        "1-> What are data structures, and why are they important?\n",
        " - Data structures are organized ways to store, manage, and access data so that it can be used efficiently. They define the layout and operations for grouping and processing data.\n",
        "  \n",
        " - They are important because-\n",
        "\n",
        "  - Efficient Data Management:-\n",
        "They help in storing and organizing data in ways that make it easy and fast to retrieve and modify.\n",
        "\n",
        "  - Better Performance:-\n",
        "Choosing the right data structure can drastically improve the performance of your program (speed, memory usage).\n",
        "\n",
        "  - Problem Solving :-\n",
        "  Many algorithms are built around specific data structures. For example, trees for hierarchical data or graphs for network-related problems.\n",
        "\n",
        "  - Scalability:-\n",
        "  Well-chosen data structures allow your program to handle large volumes of data more effectively.\n",
        "\n",
        "  - Code Clarity and Reusability:-\n",
        "Proper data structures make code cleaner, easier to understand, and easier to maintain.\n"
      ],
      "metadata": {
        "id": "ysTrLkesyxsv"
      }
    },
    {
      "cell_type": "markdown",
      "source": [
        "2->  Explain the difference between mutable and immutable data types with examples?\n",
        "\n",
        "  - In programming, mutable data types can be modified after they are created, while immutable data types cannot. Lists, dictionaries, and sets are mutable, meaning their contents can be changed. Strings, tuples, and numbers are immutable; their values cannot be altered once they are assigned."
      ],
      "metadata": {
        "id": "bwflQOc_4C5R"
      }
    },
    {
      "cell_type": "code",
      "source": [
        "#2 Mutables Data Types\n",
        "# Dictionaries are unordered collections of key-value pairs. They are mutable, allowing you to add, remove, or modify key-value pairs.\n",
        "\n",
        "my_dict = {\"name\": \"Gunjan\", \"age\": 30}\n",
        "my_dict[\"city\"] = \"Chhindwara\"  # Modifying the dictionary\n",
        "print(my_dict)  #output"
      ],
      "metadata": {
        "colab": {
          "base_uri": "https://localhost:8080/"
        },
        "id": "YFe8j2czucKk",
        "outputId": "68778b3e-8327-4aa3-9a70-41f422f74939"
      },
      "execution_count": null,
      "outputs": [
        {
          "output_type": "stream",
          "name": "stdout",
          "text": [
            "{'name': 'Gunjan', 'age': 30, 'city': 'Chhindwara'}\n"
          ]
        }
      ]
    },
    {
      "cell_type": "code",
      "source": [
        "# Tuples are ordered collections of items, similar to lists, but they are immutable. Operations that would modify a list, like adding or removing elements, are not allowed on tuples.\n",
        "\n",
        "    my_tuple = (1, 2, 3)\n",
        "    # my_tuple = 4 # This would cause an error\n",
        "    new_tuple = my_tuple + (4,) # Creating a new tuple\n",
        "    print(new_tuple) # Output: (1, 2, 3, 4)"
      ],
      "metadata": {
        "id": "v7eE-xHuTBBk"
      },
      "execution_count": null,
      "outputs": []
    },
    {
      "cell_type": "markdown",
      "source": [
        "3->  What are the main differences between lists and tuples in Python ?\n",
        "\n",
        "  -  Mutability\n",
        "  \n",
        "   List:  Mutable — You can change, add, or remove elements.\n",
        "\n",
        "   Tuple:  Immutable — Once created, elements cannot be changed.\n",
        "\n",
        "\n",
        "  -  Syntax\n",
        "\n",
        "  List: Defined using square brackets []\n",
        "\n",
        "  Tuple: Defined using parentheses ()\n",
        "\n",
        "-  Performance\n",
        "\n",
        "  Tuple: Slightly faster than lists for iteration and access.\n",
        "\n",
        "   Useful when the data should not change.\n",
        "\n",
        "- Built-in Methods\n",
        "\n",
        "  Lists : have more built-in methods (e.g., .append(), .remove(), .reverse()).\n",
        "\n",
        "  Tuples have fewer methods (only .count() and .index()).\n",
        "\n",
        "- Use Cases\n",
        "\n",
        "  List: Suitable for collections that may change — e.g., dynamic data, processing.\n",
        "\n",
        " Tuple: Suitable for fixed data, like coordinates, RGB values, days of the week.\n",
        "\n",
        "\n",
        "\n"
      ],
      "metadata": {
        "id": "eCQ_a90mPAD0"
      }
    },
    {
      "cell_type": "markdown",
      "source": [
        "4-> Describe how dictionaries store data ?\n",
        "\n",
        " - Python dictionaries store data as a collection of key-value pairs. This structure allows for efficient retrieval of values based on their associated unique keys.\n",
        "\n",
        "  Here's a breakdown of how dictionaries store data:\n",
        "\n",
        "  - Key-Value Pairs:-\n",
        "\n",
        "  Each item within a dictionary consists of a unique key and a corresponding value. The key acts as an identifier for the value, similar to how an index identifies an element in a list.\n",
        "\n",
        "  - Uniqueness of Keys:-\n",
        "\n",
        "  Keys within a single dictionary must be unique. If you attempt to assign a new value to an existing key, the dictionary will update the value associated with that key, rather than creating a new entry.\n",
        "\n",
        "  - Immutability of Keys:\n",
        "\n",
        "  Dictionary keys must be immutable types, such as strings, numbers (integers, floats), or tuples containing only immutable elements. This is because dictionaries use a hashing mechanism to efficiently locate values, and mutable objects cannot be reliably hashed.\n",
        "\n",
        "  - Mutability of Values:-\n",
        "\n",
        "  Values can be of any data type, including mutable types like lists, other dictionaries, or custom objects.\n",
        "\n",
        "  - Hash Table Implementation:-\n",
        "\n",
        "  Internally, Python dictionaries are implemented using hash tables. When a key-value pair is added, Python calculates a hash value for the key. This hash value helps determine where the key-value pair will be stored in memory, allowing for fast lookups and insertions.\n",
        "  \n",
        "  - Ordered (from Python 3.7+):-\n",
        "\n",
        "  While older versions of Python treated dictionaries as inherently unordered, Python 3.7 and later versions maintain the insertion order of key-value pairs. This means the order in which you add items to a dictionary is preserved when you iterate through it or print it.\n",
        "\n"
      ],
      "metadata": {
        "id": "3_qGmMJL_TPB"
      }
    },
    {
      "cell_type": "markdown",
      "source": [
        "5-> Why might you use a set instead of a list in Python ?\n",
        "\n",
        " - To Store Only Unique Elements: A set automatically removes duplicates.\n",
        "\n",
        " - Faster Membership Testing :\n",
        "Checking if an item exists is faster in sets than in lists.\n",
        "\n",
        " - Built-in Set Operations :\n",
        "Sets support union, intersection, difference, etc.\n",
        "\n",
        " - Efficient Duplicate Removal:\n",
        "Quickly remove duplicates from a list"
      ],
      "metadata": {
        "id": "L4y-1OxgHwhf"
      }
    },
    {
      "cell_type": "markdown",
      "source": [
        "6-> What is a string in Python, and how is it different from a list?\n",
        "\n",
        " - A string is a sequence of characters. A list a sequence of values which can be characters, integers or even another list (referred to as a nested list). A dictionary is a more general version of a list and is made up a set of keys and values where there is a mapping between a given key and its corresponding value.\n"
      ],
      "metadata": {
        "id": "huBuplLIOHKM"
      }
    },
    {
      "cell_type": "markdown",
      "source": [
        "7-> How do tuples ensure data integrity in Python?\n",
        "\n",
        " - Tuples are immutable to ensure that their contents remain constant throughout their lifecycle, guaranteeing data integrity and reliability. This immutability allows tuples to be used as keys in dictionaries and elements in sets, as they can be hashed."
      ],
      "metadata": {
        "id": "dbbxWZv7O06d"
      }
    },
    {
      "cell_type": "markdown",
      "source": [
        "8-> What is a hash table, and how does it relate to dictionaries in Python?\n",
        "\n",
        "  - A hash table is a data structure that stores key-value pairs and allows for fast data retrieval. It uses a hash function to convert keys into indexes in an internal array (or table), where the corresponding values are stored.\n",
        "\n",
        "  Key Concepts of Hash Table:\n",
        "\n",
        "   - Key: A unique identifier for a value (like a name or ID).\n",
        "\n",
        "   - Value: The data you want to store or retrieve.\n",
        "\n",
        "   - Hash Function: Converts the key into a numeric index.\n",
        "\n",
        "   - Index: Used to store and locate the value quickly.\n",
        "\n",
        "   - Collision: Occurs when two keys hash to the same index; handled via techniques like chaining or open addressing.\n",
        "\n",
        "   \n",
        " - In Python, a dict (dictionary) is implemented using a hash table.\n",
        "\n",
        "   How Dictionaries Use Hash Tables:\n",
        "\n",
        "      - When you create a dictionary:\n",
        "\n",
        "   #student = {\"name\": \"Gunjan\", \"age\": 20}\n",
        "\n",
        "   Python internally:\n",
        "\n",
        "   Hashes the keys (\"name\", \"age\")\n",
        "\n",
        "   Converts them into indexes\n",
        "\n",
        "   Stores the values (\"Gunjan\", 20) at those indexes\n",
        "\n",
        "Advantages:\n",
        "\n",
        "  ✅ Fast lookups: O(1) average-case time for get/set operations\n",
        "\n",
        "  ✅ Efficient memory use and dynamic resizing\n",
        "\n",
        "  ✅ Intuitive syntax: value = my_dict[key]\n"
      ],
      "metadata": {
        "id": "TEc_yqlIPRGS"
      }
    },
    {
      "cell_type": "markdown",
      "source": [
        "9-> Can lists contain different data types in Python??\n",
        "\n",
        " - Yes, lists in Python can contain elements of different data types. This is a key feature of Python lists, making them a very flexible and versatile data structure.\n",
        "\n",
        "   - For example-\n",
        "   \n",
        "   a single Python list can hold a combination of:\n",
        "     - Numbers: Integers, floats, etc.\n",
        "     - Strings: Text data.\n",
        "     - Booleans: True or False values.\n",
        "     - Other data structures: Nested lists, tuples, dictionaries, sets.\n",
        "     - Objects: Instances of custom classes.\n",
        "\n",
        " This heterogeneity allows for the storage of diverse information within a single ordered collection."
      ],
      "metadata": {
        "id": "6x4COczPym0D"
      }
    },
    {
      "cell_type": "markdown",
      "source": [
        "10-> Explain why strings are immutable in Python?\n",
        "\n",
        " - In Python, strings are immutable, which means once a string is created, it cannot be changed. Any operation that seems to modify a string actually creates a new string.\n",
        "\n",
        "  Reasons Why Strings Are Immutable:\n",
        " 1. Performance and Memory Efficiency (Hashing Support)\n",
        "\n",
        "    - Strings are commonly used as keys in dictionaries, which are hash-based.\n",
        "\n",
        "    - For a key to remain reliable, it must not change after being hashed.\n",
        "\n",
        "    - If strings were mutable, their hash could change, breaking the hash table.\n",
        "\n",
        "   2. Security and Predictability\n",
        "\n",
        "    - Strings are often used to store sensitive data (e.g., filenames, passwords).\n",
        "\n",
        "    - Immutability ensures that once defined, the content can’t be accidentally or maliciously changed.\n",
        "\n",
        "  3. Thread Safety\n",
        "\n",
        "    - In multi-threaded environments, mutable objects can be changed by one thread while being used by another, causing bugs.\n",
        "\n",
        "    - Immutable objects like strings are inherently thread-safe.\n",
        "\n",
        "   4. Simplicity of Design\n",
        "\n",
        "   - Immutable objects reduce side effects, making code easier to reason about.\n",
        "\n",
        "    - Any “change” operation (like slicing or concatenation) returns a new string, leaving the original untouched"
      ],
      "metadata": {
        "id": "1f4bpnOrz3Qo"
      }
    },
    {
      "cell_type": "markdown",
      "source": [
        "11-> What advantages do dictionaries offer over lists for certain tasks?\n",
        "\n",
        " - Dictionaries in Python are a versatile data structure that allows for efficient storage and retrieval of key-value pairs. By using a key to uniquely identify each value, dictionaries offer fast lookups which are essential for tasks like mapping relationships between different entities, implementing data caches, or storing configuration settings. Additionally, dictionaries provide a flexible and dynamic way to organize and manipulate data, making them handy for various programming tasks including data processing, web development, and algorithmic problem-solving. Overall, the ability to quickly access, update, and manage key-value pairs makes dictionaries a powerful tool in Python programming for representing real-world relationships and organizing data efficiently.\n",
        "\n",
        "  1) Dictionaries in Python offer fast data retrieval: Unlike lists where you have to traverse through each element to find a value, dictionaries use hash tables for quick access to values based on keys.\n",
        "\n",
        " 2) Easy to understand key value pairs: Dictionaries consist of key value pairs, making it easier to associate and access relevant data together.\n",
        "\n",
        " 3) Dynamic data structure: Dictionaries in Python are mutable, meaning you can add, update, or remove key value pairs as needed, providing flexibility in managing data.\n",
        "\n",
        " 4) Efficient for storing large amounts of data: Due to its efficient data retrieval mechanism, dictionaries are ideal for storing and accessing large datasets quickly.\n",
        "\n",
        " 5) Built in methods for manipulation: Python dictionaries offer a variety of built in methods such as `get()`, `keys()`, `values()`, and `items()` for easy data manipulation and iteration.\n",
        "\n",
        " 6) Useful for mapping relationships: Dictionaries are commonly used to map relationships between items, making it easy to store and retrieve interconnected data.\n",
        "\n",
        " 7) Suitable for a wide range of applications: From simple key value mappings to complex data structures, dictionaries can be applied in various scenarios, making them versatile for diverse programming needs.\n",
        "\n",
        " 8) Support for different data types: Python dictionaries can store and retrieve values of different data types, offering flexibility in handling a variety of information.\n",
        "\n",
        " 9) Convenient for grouping related data: By using dictionaries, you can group related information under distinct keys, resulting in organized and structured data management.\n",
        "\n",
        " 10) Facilitates efficient data processing: Dictionaries support efficient lookups and updates, enabling streamlined data processing operations within Python programs.\n",
        "\n",
        " 11) Ideal for quick searches and retrievals: When dealing with datasets where fast searching and retrieval are crucial, dictionaries provide an optimal solution for efficient data access.\n",
        "\n",
        " 12) Enhanced readability and maintainability: Using dictionaries to store data in a key value format can improve code readability and maintainability by clearly outlining the relationships between data elements."
      ],
      "metadata": {
        "id": "Qk4CqSq81oCf"
      }
    },
    {
      "cell_type": "markdown",
      "source": [
        "12->   Describe a scenario where using a tuple would be preferable over a list?\n",
        "\n",
        " - A tuple is preferable over a list when you want to ensure the data cannot be changed—that is, when immutability is desired. Here's a specific scenario:\n",
        "\n",
        "\n",
        "   - Scenario: Returning Multiple Values from a Function:\n",
        "\n",
        "  Suppose you're writing a function that processes a string and returns multiple pieces of information, such as the number of words and characters. Since the result is meant to be a fixed package of values, a tuple is ideal.\n",
        "\n",
        "- Why a tuple is better below:\n",
        "\n",
        "     - The number and meaning of the return values are fixed and known.\n",
        "\n",
        "     - Using a tuple conveys that these values are a single, grouped unit.\n",
        "\n",
        "     - Immutability prevents accidental modification of the return structure."
      ],
      "metadata": {
        "id": "ZLTBuxe-6fQw"
      }
    },
    {
      "cell_type": "code",
      "source": [
        "#12\n",
        "def analyze_text(text):\n",
        "    words = text.split()\n",
        "    return (len(words), len(text))  # returning a tuple\n",
        "\n",
        "# Usage\n",
        "word_count, char_count = analyze_text(\"Hello, Python world!\")\n",
        "print(\"Words:\", word_count)\n",
        "print(\"Characters:\", char_count)\n"
      ],
      "metadata": {
        "colab": {
          "base_uri": "https://localhost:8080/"
        },
        "id": "lM6xigpkGYcv",
        "outputId": "5271ad99-7a65-4d01-e6ca-16734faf793c"
      },
      "execution_count": 1,
      "outputs": [
        {
          "output_type": "stream",
          "name": "stdout",
          "text": [
            "Words: 3\n",
            "Characters: 20\n"
          ]
        }
      ]
    },
    {
      "cell_type": "markdown",
      "source": [
        "13->  How do sets handle duplicate values in Python ?\n",
        "\n",
        " - Python sets are inherently designed to store unique elements and do not allow duplicate values. When attempting to add a duplicate element to a set, the set simply ignores the addition, and its content remains unchanged. This characteristic makes sets a highly efficient tool for tasks involving unique collections or for removing duplicates from other data structures like lists.\n",
        "\n",
        " Here's how sets handle duplicate values in practice:\n",
        "\n",
        " Automatic Removal:\n",
        "\n",
        " If you create a set from an iterable (like a list) containing duplicate values, the set automatically removes these duplicates during its creation, retaining only one instance of each unique element.\n",
        "\n",
        " Ignoring Additions:\n",
        "\n",
        " When using the add() method to add an element that already exists in the set, the operation has no effect. The set does not raise an error; it simply maintains its existing elements."
      ],
      "metadata": {
        "id": "WMylz2n7jY7W"
      }
    },
    {
      "cell_type": "markdown",
      "source": [
        "14->  How does the “in” keyword work differently for lists and dictionaries ?\n",
        "\n",
        "- The \"in\" operation for the dictionary tests on keys. The key of the dictionary is a unique value as well as the set, and the execution time is about the same as for sets. On the other hand, dictionary values can be duplicated like a list.\n",
        "\n",
        "  - For Lists\n",
        "     - in checks if a value exists in the list.\n",
        "     - It performs a linear search, meaning it checks each item one by one.\n",
        "     - Time complexity: O(n), where n is the length of the list.\n",
        "\n",
        "  - For Dictionaries\n",
        "     - in checks only the keys, not the values.\n",
        "     - It uses a hash table lookup, which is much faster.\n",
        "     - Time complexity: O(1) on average.\n",
        "\n"
      ],
      "metadata": {
        "id": "0uUV9zFKklOR"
      }
    },
    {
      "cell_type": "markdown",
      "source": [
        "15->  Can you modify the elements of a tuple? Explain why or why not??\n",
        "\n",
        " - No, you cannot directly modify the elements of a Python tuple. Tuples are immutable, meaning their contents cannot be changed after creation. This is a fundamental characteristic of tuples, differentiating them from lists which are mutable.\n",
        "\n",
        "- Explanation:\n",
        "\n",
        "  - Immutability: Tuples are designed to be immutable, which means once a tuple  is created, you cannot add, remove, or change its elements.\n",
        "\n",
        "  - TypeError: Attempting to modify a tuple element directly will result in a TypeError.\n",
        "\n",
        "  - Alternatives: While you can't modify a tuple directly, you can achieve a similar result by converting the tuple to a list, modifying the list, and then converting it back to a tuple. However, this creates a new tuple rather than modifying the original one."
      ],
      "metadata": {
        "id": "XCwZXX8LmzF9"
      }
    },
    {
      "cell_type": "code",
      "source": [
        "#16->\n",
        "#A nested dictionary in Python is a dictionary inside another dictionary.\n",
        "#It allows you to organize complex data in a structured and readable way using key-value pairs within key-value pairs.\n",
        "\n",
        "student = {\n",
        "    \"name\": \"Gunjan\",\n",
        "    \"grades\": {\n",
        "        \"math\": 88,\n",
        "        \"science\": 92,\n",
        "        \"english\": 85\n",
        "    },\n",
        "    \"age\": 17\n",
        "}\n",
        "\n",
        "#Here, the key \"grades\" contains another dictionary as its value.\n",
        "\n",
        "\n"
      ],
      "metadata": {
        "id": "vVSUairvow39"
      },
      "execution_count": 4,
      "outputs": []
    },
    {
      "cell_type": "markdown",
      "source": [
        "17-> Describe the time complexity of accessing elements in a dictionary?\n",
        "\n",
        " -\n",
        " Accessing elements in a dictionary (or hash table) typically has a time complexity of O(1) on average. This means that the time it takes to retrieve a value by its key is, on average, constant and doesn't depend on the size of the dictionary. However, in the worst-case scenario (which is rare), the time complexity can be O(n), where n is the number of elements in the dictionary, due to hash collisions.\n",
        "\n",
        " - Elaboration:\n",
        "\n",
        "     - Hash Tables:\n",
        "\n",
        "   Dictionaries are typically implemented using hash tables. A hash table uses a hash function to map keys to indices in an array (called a bucket or slot). When you access an element, the hash function is used to quickly find the correct bucket, and the element is retrieved from that bucket.\n",
        "\n",
        " - Average Case (O(1)):\n",
        "\n",
        " In the average case, the hash function distributes keys evenly across the buckets, and accessing an element involves only a single step (calculating the hash and looking up the bucket). This results in a constant time complexity of O(1).\n",
        "\n",
        " - Worst Case (O(n)):\n",
        "\n",
        " In the worst-case scenario, the hash function might map multiple keys to the same bucket, leading to collisions. In this case, the dictionary might need to iterate through all the elements within that bucket to find the desired key. If all keys map to the same bucket, this results in O(n) time complexity.\n",
        "\n",
        " - Hash Function Quality:\n",
        "\n",
        " The quality of the hash function is crucial for maintaining good performance. A good hash function distributes keys evenly, minimizing the chances of collisions and ensuring average-case O(1) access times."
      ],
      "metadata": {
        "id": "Q27o34o2p26b"
      }
    },
    {
      "cell_type": "markdown",
      "source": [
        "18-> In what situations are lists preferred over dictionaries?\n",
        "\n",
        "  - Order is important\n",
        "You want to maintain the sequence of items (e.g., steps in a process, chapters in a book).\n",
        "- You need duplicates\n",
        "\n",
        "     Lists allow repeated values, which is useful for things like survey responses or logs.\n",
        "\n",
        "- Index-based access is needed\n",
        "\n",
        "     You want to access items by position, like my_list[2].\n",
        "\n",
        "- Simple collections\n",
        "\n",
        "     You're storing a group of items without needing to label them (e.g., a list of colors).\n",
        "- Iteration in order\n",
        "\n",
        "     You want to loop through items in the exact order they were added.\n"
      ],
      "metadata": {
        "id": "fBARrR5GrZjF"
      }
    },
    {
      "cell_type": "markdown",
      "source": [
        "19->  \n",
        "\n",
        " - Dictionaries and order in data retrieval\n",
        "\n",
        " Dictionaries (also known as hash maps or associative arrays) are a fundamental data structure in computer science. They are often described as being \"unordered\" because their primary purpose is efficient storage and retrieval of data based on keys, not on the order in which items are added.\n",
        "The impact of being unordered on data retrieval\n",
        "\n",
        "-  Speed\n",
        "\n",
        "  Dictionaries are optimized for fast lookups based on keys. They typically use a hash function to compute an index from the key, allowing direct access to the associated value in a fixed amount of time (O(1) on average).\n",
        "\n",
        "  In contrast, retrieving data from an ordered collection like a list usually requires iterating through the elements until the desired element is found, taking O(n) time for a linear search or O(log n) for a binary search on a sorted list.\n",
        "\n",
        "-  No reliance on index\n",
        "\n",
        " Since dictionaries are not ordered by position, you cannot access elements using numerical indices like you would with a list or array.\n",
        "Data retrieval in dictionaries solely depends on knowing the key associated with the value you want to retrieve.\n",
        "\n",
        "\n",
        "- Conclusion\n",
        "\n",
        " Dictionaries are considered unordered because their design prioritizes rapid data access using keys rather than maintaining a specific order of elements. This affects data retrieval by ensuring fast lookups but means you cannot rely on numerical indices for accessing elements. Although modern dictionaries preserve insertion order, the core emphasis remains on key-value mapping rather than sequential positioning."
      ],
      "metadata": {
        "id": "XkTm7mxgttKb"
      }
    },
    {
      "cell_type": "markdown",
      "source": [
        "20->\n",
        "\n",
        "   **Lists vs. dictionaries for data retrieval in Python**\n",
        "\n",
        " Both Python lists and dictionaries are used to store collections of data, but their fundamental difference lies in how they structure and, consequently, how they retrieve data.\n",
        "\n",
        "  **Lists: ordered collections with index-based retrieval**\n",
        " - Structure: Lists store data in an ordered sequence, similar to arrays in other programming languages. Each item in a list is assigned a unique, integer-based index starting from 0.\n",
        "\n",
        "      - Data retrieval:\n",
        "\n",
        "        - Accessing elements:\n",
        "        You retrieve individual elements from a list using their numerical index within square brackets. For example, my_list[0] would access the first element, while my_list[3] would retrieve the fourth element.\n",
        "\n",
        "        - Slicing:\n",
        "         You can also retrieve a subsequence (or \"slice\") of a list by specifying a starting and ending index (and an optional step size) using the syntax my_list[start:end:step]. For instance, my_list[1:4] retrieves elements from index 1 (inclusive) up to, but not including, index 4.\n",
        "\n",
        "    - Performance:\n",
        "    \n",
        "         Retrieving elements from a list by index has a constant time complexity (O(1)), making it very efficient for accessing individual items at known positions. However, searching for a specific value in a list (without knowing its index) requires iterating through the list, leading to a linear time complexity (O(n)) in the worst case.\n",
        "\n",
        "\n",
        "\n",
        "  **Dictionaries: unordered key-value pairs with key-based retrieval**\n",
        "\n",
        "  - Structure:\n",
        "  \n",
        "  Dictionaries store data as unordered collections of unique key-value pairs. Each key acts as a unique identifier for its associated value, much like a real-world dictionary where you look up a word (key) to find its definition (value). Keys must be immutable (like strings, numbers, or tuples), while values can be of any data type.\n",
        "\n",
        "\n",
        "  - Data retrieval:\n",
        "\n",
        "      - Accessing elements:\n",
        "     \n",
        "      You access the value associated with a particular key by using the key within square brackets, e.g., my_dictionary['my_key']. You can also use the get() method to retrieve values, which provides a safe way to handle missing keys by returning a default value (or None) instead of raising a KeyError.\n",
        "\n",
        "    - Performance:\n",
        "     \n",
        "     Dictionaries leverage hash functions for their implementation, enabling very efficient retrieval of values based on their associated keys. The average time complexity for key lookups in a dictionary is constant time (O(1)). This makes dictionaries ideal for scenarios where you need fast access to data based on a unique identifier."
      ],
      "metadata": {
        "id": "V95lWX--ys0-"
      }
    },
    {
      "cell_type": "markdown",
      "source": [
        "#**PRACTICAL** **QUESTIONS**"
      ],
      "metadata": {
        "id": "scjhcA1J2Ail"
      }
    },
    {
      "cell_type": "code",
      "source": [
        "#1- Write a code to create a string with your name and print it?\n",
        "\n",
        "name=\"Gunjan Uikey\"\n",
        "print(\"My name is\", name)"
      ],
      "metadata": {
        "colab": {
          "base_uri": "https://localhost:8080/"
        },
        "id": "1nmU2B0r2L9E",
        "outputId": "02727147-ca29-4fba-9313-0a0d12575917"
      },
      "execution_count": 8,
      "outputs": [
        {
          "output_type": "stream",
          "name": "stdout",
          "text": [
            "My name is Gunjan Uikey\n"
          ]
        }
      ]
    },
    {
      "cell_type": "code",
      "source": [
        "#2-Write a code to find the length of the string \"Hello World\"?\n",
        "\n",
        "string=\"Hello World\"\n",
        "print(\"Length of string is:\", len(string))"
      ],
      "metadata": {
        "colab": {
          "base_uri": "https://localhost:8080/"
        },
        "id": "CL245o1_2zRj",
        "outputId": "bc84b4c0-d1fa-46ae-953a-129dd11ee8e5"
      },
      "execution_count": 7,
      "outputs": [
        {
          "output_type": "stream",
          "name": "stdout",
          "text": [
            "Length of string is: 11\n"
          ]
        }
      ]
    },
    {
      "cell_type": "code",
      "source": [
        "#3-Write a code to slice the first 3 characters from the string \"Python Programming\"\n",
        "\n",
        "text = \"Python Programming\"\n",
        "sliced_text = text[:3]\n",
        "print(sliced_text)\n",
        "\n"
      ],
      "metadata": {
        "colab": {
          "base_uri": "https://localhost:8080/"
        },
        "id": "SehTAcD63r1L",
        "outputId": "d1fa450f-2e0c-4da9-e284-f22427ca96c8"
      },
      "execution_count": 9,
      "outputs": [
        {
          "output_type": "stream",
          "name": "stdout",
          "text": [
            "Pyt\n"
          ]
        }
      ]
    },
    {
      "cell_type": "code",
      "source": [
        "#4- Write a code to convert the string \"hello\" to uppercase?\n",
        "\n",
        "string=\"hello\"\n",
        "print(string.upper())"
      ],
      "metadata": {
        "colab": {
          "base_uri": "https://localhost:8080/"
        },
        "id": "HgKMc7_-4BED",
        "outputId": "a7ac10e3-6fa9-4e6c-eedf-2a65cd82f789"
      },
      "execution_count": 10,
      "outputs": [
        {
          "output_type": "stream",
          "name": "stdout",
          "text": [
            "HELLO\n"
          ]
        }
      ]
    },
    {
      "cell_type": "code",
      "source": [
        "#5-Write a code to replace the word \"apple\" with \"orange\" in the string \"I like apple\"?\n",
        "\n",
        "text = \"I like apple\"\n",
        "new_text = text.replace(\"apple\", \"orange\")\n",
        "print(new_text)\n"
      ],
      "metadata": {
        "colab": {
          "base_uri": "https://localhost:8080/"
        },
        "id": "i-zDGFxc4bdd",
        "outputId": "ab426103-58ba-464c-e92a-a737466f988c"
      },
      "execution_count": 11,
      "outputs": [
        {
          "output_type": "stream",
          "name": "stdout",
          "text": [
            "I like orange\n"
          ]
        }
      ]
    },
    {
      "cell_type": "code",
      "source": [
        "#6-Write a code to create a list with numbers 1 to 5 and print it?\n",
        "\n",
        "numbers = [1, 2, 3, 4, 5]\n",
        "print(numbers)\n"
      ],
      "metadata": {
        "colab": {
          "base_uri": "https://localhost:8080/"
        },
        "id": "3Uv5Rp454w3i",
        "outputId": "d9e57473-de36-485c-9dd8-e71dddfaf30e"
      },
      "execution_count": 13,
      "outputs": [
        {
          "output_type": "stream",
          "name": "stdout",
          "text": [
            "[1, 2, 3, 4, 5]\n"
          ]
        }
      ]
    },
    {
      "cell_type": "code",
      "source": [
        "#7-Write a code to append the number 10 to the list [1, 2, 3, 4]\n",
        "\n",
        "numbers = [1, 2, 3, 4]\n",
        "numbers.append(10)\n",
        "print(numbers)\n"
      ],
      "metadata": {
        "colab": {
          "base_uri": "https://localhost:8080/"
        },
        "id": "WT0HJeS75LRq",
        "outputId": "a1bf567f-c627-4c63-8bbc-e8130ea0167e"
      },
      "execution_count": 14,
      "outputs": [
        {
          "output_type": "stream",
          "name": "stdout",
          "text": [
            "[1, 2, 3, 4, 10]\n"
          ]
        }
      ]
    },
    {
      "cell_type": "code",
      "source": [
        "#8-Write a code to remove the number 3 from the list [1, 2, 3, 4, 5]\n",
        "\n",
        "numbers = [1, 2, 3, 4, 5]\n",
        "numbers.remove(3)\n",
        "print(numbers)\n"
      ],
      "metadata": {
        "colab": {
          "base_uri": "https://localhost:8080/"
        },
        "id": "CsPHY7hQ5bVj",
        "outputId": "01a37be2-7d4f-417a-cecf-bdf0ae2bd680"
      },
      "execution_count": 15,
      "outputs": [
        {
          "output_type": "stream",
          "name": "stdout",
          "text": [
            "[1, 2, 4, 5]\n"
          ]
        }
      ]
    },
    {
      "cell_type": "code",
      "source": [
        "#9-Write a code to access the second element in the list ['a', 'b', 'c', 'd']\n",
        "\n",
        "my_list = ['a', 'b', 'c', 'd']\n",
        "second_element = my_list[1]\n",
        "print(second_element)\n",
        "\n"
      ],
      "metadata": {
        "colab": {
          "base_uri": "https://localhost:8080/"
        },
        "id": "F9taif1R5paY",
        "outputId": "5376d8d3-9531-4bfd-9e13-3d1b52ab5413"
      },
      "execution_count": 16,
      "outputs": [
        {
          "output_type": "stream",
          "name": "stdout",
          "text": [
            "b\n"
          ]
        }
      ]
    },
    {
      "cell_type": "code",
      "source": [
        "#10- Write a code to reverse the list [10, 20, 30, 40, 50]\n",
        "\n",
        "numbers = [10, 20, 30, 40, 50]\n",
        "numbers.reverse()\n",
        "print(numbers)\n"
      ],
      "metadata": {
        "colab": {
          "base_uri": "https://localhost:8080/"
        },
        "id": "caxlktR75-Dx",
        "outputId": "1d8905bd-05e0-4333-e909-a316a3153f0c"
      },
      "execution_count": 17,
      "outputs": [
        {
          "output_type": "stream",
          "name": "stdout",
          "text": [
            "[50, 40, 30, 20, 10]\n"
          ]
        }
      ]
    },
    {
      "cell_type": "code",
      "source": [
        "#11-Write a code to create a tuple with the elements 100, 200, 300 and print it\n",
        "\n",
        "my_tuple = (100, 200, 300)\n",
        "print(my_tuple)\n"
      ],
      "metadata": {
        "colab": {
          "base_uri": "https://localhost:8080/"
        },
        "id": "0UWW9gFi6J_o",
        "outputId": "e65f0fbf-316d-4ad2-a1a7-2c95932315a6"
      },
      "execution_count": 18,
      "outputs": [
        {
          "output_type": "stream",
          "name": "stdout",
          "text": [
            "(100, 200, 300)\n"
          ]
        }
      ]
    },
    {
      "cell_type": "code",
      "source": [
        "#12-Write a code to access the second-to-last element of the tuple ('red', 'green', 'blue', 'yellow').\n",
        "\n",
        "colors = ('red', 'green', 'blue', 'yellow')\n",
        "second_last = colors[-2]\n",
        "print(second_last)\n"
      ],
      "metadata": {
        "colab": {
          "base_uri": "https://localhost:8080/"
        },
        "id": "pBXDq3iW6Z06",
        "outputId": "d8b1260a-423e-4b79-9baa-f9a225bd895b"
      },
      "execution_count": 19,
      "outputs": [
        {
          "output_type": "stream",
          "name": "stdout",
          "text": [
            "blue\n"
          ]
        }
      ]
    },
    {
      "cell_type": "code",
      "source": [
        "#13-Write a code to find the minimum number in the tuple (10, 20, 5, 15)\n",
        "\n",
        "numbers = (10, 20, 5, 15)\n",
        "minimum = min(numbers)\n",
        "print(minimum)\n",
        "\n"
      ],
      "metadata": {
        "colab": {
          "base_uri": "https://localhost:8080/"
        },
        "id": "BZDq7suE6qzp",
        "outputId": "d33c4b1b-4641-49da-a098-5e6566869603"
      },
      "execution_count": 20,
      "outputs": [
        {
          "output_type": "stream",
          "name": "stdout",
          "text": [
            "5\n"
          ]
        }
      ]
    },
    {
      "cell_type": "code",
      "source": [
        "#14- Write a code to find the index of the element \"cat\" in the tuple ('dog', 'cat', 'rabbit').\n",
        "\n",
        "animals = ('dog', 'cat', 'rabbit')\n",
        "index_of_cat = animals.index('cat')\n",
        "print(index_of_cat)\n"
      ],
      "metadata": {
        "colab": {
          "base_uri": "https://localhost:8080/"
        },
        "id": "3IAyjoGO9unS",
        "outputId": "184a1a30-c126-416a-d6ae-ea76ec3bb4ba"
      },
      "execution_count": 21,
      "outputs": [
        {
          "output_type": "stream",
          "name": "stdout",
          "text": [
            "1\n"
          ]
        }
      ]
    },
    {
      "cell_type": "code",
      "source": [
        "#15- Write a code to create a tuple containing three different fruits and check if \"kiwi\" is in it.\n",
        "\n",
        "fruits = ('apple', 'banana', 'orange')\n",
        "\n",
        "# Check if \"kiwi\" is in the tuple\n",
        "if 'kiwi' in fruits:\n",
        "    print(\"Kiwi is in the tuple.\")\n",
        "else:\n",
        "    print(\"Kiwi is not in the tuple.\")\n"
      ],
      "metadata": {
        "colab": {
          "base_uri": "https://localhost:8080/"
        },
        "id": "a0YIUKnE9-SX",
        "outputId": "5a970095-ce83-4623-d1b8-d0e7543299f4"
      },
      "execution_count": 22,
      "outputs": [
        {
          "output_type": "stream",
          "name": "stdout",
          "text": [
            "Kiwi is not in the tuple.\n"
          ]
        }
      ]
    },
    {
      "cell_type": "code",
      "source": [
        "#16-  Write a code to create a set with the elements 'a', 'b', 'c' and print it.\n",
        "\n",
        "my_set = {'a', 'b', 'c'}\n",
        "print(my_set)\n",
        "\n"
      ],
      "metadata": {
        "colab": {
          "base_uri": "https://localhost:8080/"
        },
        "id": "WDU_cahz-Njv",
        "outputId": "9717c45e-a000-415a-f70c-6d3967e9fd47"
      },
      "execution_count": 25,
      "outputs": [
        {
          "output_type": "stream",
          "name": "stdout",
          "text": [
            "{'b', 'a', 'c'}\n"
          ]
        }
      ]
    },
    {
      "cell_type": "code",
      "source": [
        "#17- Write a code to clear all elements from the set {1, 2, 3, 4, 5}\n",
        "\n",
        "my_set = {1, 2, 3, 4, 5}\n",
        "my_set.clear()\n",
        "print(my_set)\n"
      ],
      "metadata": {
        "colab": {
          "base_uri": "https://localhost:8080/"
        },
        "id": "BKkjwqw4_xZi",
        "outputId": "064b90e3-7113-4a07-e0bc-586efc64a4fd"
      },
      "execution_count": 26,
      "outputs": [
        {
          "output_type": "stream",
          "name": "stdout",
          "text": [
            "set()\n"
          ]
        }
      ]
    },
    {
      "cell_type": "code",
      "source": [
        "#18-Write a code to remove the element 4 from the set {1, 2, 3, 4}.\n",
        "\n",
        "my_set = {1, 2, 3, 4}\n",
        "my_set.remove(4)\n",
        "print(my_set)\n"
      ],
      "metadata": {
        "colab": {
          "base_uri": "https://localhost:8080/"
        },
        "id": "pF_Kff39AWk_",
        "outputId": "ee445924-7c7c-4bb5-ff87-94670ba661e1"
      },
      "execution_count": 27,
      "outputs": [
        {
          "output_type": "stream",
          "name": "stdout",
          "text": [
            "{1, 2, 3}\n"
          ]
        }
      ]
    },
    {
      "cell_type": "code",
      "source": [
        "#19- Write a code to find the union of two sets {1, 2, 3} and {3, 4, 5}.\n",
        "\n",
        "set1 = {1, 2, 3}\n",
        "set2 = {3, 4, 5}\n",
        "\n",
        "union_set = set1.union(set2)\n",
        "print(union_set)\n"
      ],
      "metadata": {
        "colab": {
          "base_uri": "https://localhost:8080/"
        },
        "id": "okWvbwzSAosK",
        "outputId": "544864d2-3cbc-41bb-f01e-b1e6b559704d"
      },
      "execution_count": 28,
      "outputs": [
        {
          "output_type": "stream",
          "name": "stdout",
          "text": [
            "{1, 2, 3, 4, 5}\n"
          ]
        }
      ]
    },
    {
      "cell_type": "code",
      "source": [
        "#20-Write a code to find the intersection of two sets {1, 2, 3} and {2, 3, 4}.\n",
        "\n",
        "set1 = {1, 2, 3}\n",
        "set2 = {2, 3, 4}\n",
        "\n",
        "intersection = set1.intersection(set2)\n",
        "print(intersection)\n",
        "\n",
        "\n"
      ],
      "metadata": {
        "colab": {
          "base_uri": "https://localhost:8080/"
        },
        "id": "hIjt9nZ0BFhY",
        "outputId": "6f93efca-20ef-415a-b76d-88e486747149"
      },
      "execution_count": 29,
      "outputs": [
        {
          "output_type": "stream",
          "name": "stdout",
          "text": [
            "{2, 3}\n"
          ]
        }
      ]
    },
    {
      "cell_type": "code",
      "source": [
        "#21- Write a code to create a dictionary with the keys \"name\", \"age\", and \"city\", and print it\n",
        "\n",
        "person = {\n",
        "    \"name\": \"Gunjan Uikey\",\n",
        "    \"age\": 30,\n",
        "    \"city\": \"Madhya Pradesh\"\n",
        "}\n",
        "\n",
        "print(person)\n"
      ],
      "metadata": {
        "colab": {
          "base_uri": "https://localhost:8080/"
        },
        "id": "vgqCBNkfBzM6",
        "outputId": "9b85d124-c332-4816-f20e-427cbebe874e"
      },
      "execution_count": 30,
      "outputs": [
        {
          "output_type": "stream",
          "name": "stdout",
          "text": [
            "{'name': 'Gunjan Uikey', 'age': 30, 'city': 'Madhya Pradesh'}\n"
          ]
        }
      ]
    },
    {
      "cell_type": "code",
      "source": [
        "#22- Write a code to add a new key-value pair \"country\": \"USA\" to the dictionary {'name': 'John', 'age': 25}.\n",
        "\n",
        "person = {'name': 'John', 'age': 25}\n",
        "person['country'] = 'USA'\n",
        "print(person)\n"
      ],
      "metadata": {
        "colab": {
          "base_uri": "https://localhost:8080/"
        },
        "id": "UR-zjr5sCV2D",
        "outputId": "a2484383-ed9c-4de1-9662-3bf331e8bfcc"
      },
      "execution_count": 31,
      "outputs": [
        {
          "output_type": "stream",
          "name": "stdout",
          "text": [
            "{'name': 'John', 'age': 25, 'country': 'USA'}\n"
          ]
        }
      ]
    },
    {
      "cell_type": "code",
      "source": [
        "#23- Write a code to access the value associated with the key \"name\" in the dictionary {'name': 'Alice', 'age': 30}.\n",
        "\n",
        "person = {'name': 'Alice', 'age': 30}\n",
        "print(person['name'])\n"
      ],
      "metadata": {
        "colab": {
          "base_uri": "https://localhost:8080/"
        },
        "id": "AupLL563CpG5",
        "outputId": "e91cf98a-6aef-46bd-90f1-c191e416410e"
      },
      "execution_count": 32,
      "outputs": [
        {
          "output_type": "stream",
          "name": "stdout",
          "text": [
            "Alice\n"
          ]
        }
      ]
    },
    {
      "cell_type": "code",
      "source": [
        "#24- Write a code to remove the key \"age\" from the dictionary {'name': 'Bob', 'age': 22, 'city': 'New York'}.\n",
        "\n",
        "person = {'name': 'Bob', 'age': 22, 'city': 'New York'}\n",
        "del person['age']\n",
        "print(person)\n"
      ],
      "metadata": {
        "colab": {
          "base_uri": "https://localhost:8080/"
        },
        "id": "Nlr0Kh3bC9tH",
        "outputId": "a06911b1-649d-4847-b439-a098a6c21cf6"
      },
      "execution_count": 33,
      "outputs": [
        {
          "output_type": "stream",
          "name": "stdout",
          "text": [
            "{'name': 'Bob', 'city': 'New York'}\n"
          ]
        }
      ]
    },
    {
      "cell_type": "code",
      "source": [
        "#25-Write a code to check if the key \"city\" exists in the dictionary {'name': 'Alice', 'city': 'Paris'}.\n",
        "\n",
        "person = {'name': 'Alice', 'city': 'Paris'}\n",
        "\n",
        "if 'city' in person:\n",
        "    print(\"Key 'city' exists in the dictionary.\")\n",
        "else:\n",
        "    print(\"Key 'city' does not exist in the dictionary.\")\n"
      ],
      "metadata": {
        "colab": {
          "base_uri": "https://localhost:8080/"
        },
        "id": "m1Z0oSouDKYw",
        "outputId": "eb32bdaf-90b3-40d9-de3c-992f0b5f5c9f"
      },
      "execution_count": 34,
      "outputs": [
        {
          "output_type": "stream",
          "name": "stdout",
          "text": [
            "Key 'city' exists in the dictionary.\n"
          ]
        }
      ]
    },
    {
      "cell_type": "code",
      "source": [
        "#26-Write a code to create a list, a tuple, and a dictionary, and print them all.\n",
        "\n",
        "# Creating a list\n",
        "my_list = [1, 2, 3, 4, 5]\n",
        "\n",
        "# Creating a tuple\n",
        "my_tuple = ('apple', 'banana', 'cherry')\n",
        "\n",
        "# Creating a dictionary\n",
        "my_dict = {'name': 'Alice', 'age': 30, 'city': 'Paris'}\n",
        "\n",
        "# Printing all\n",
        "print(\"List:\", my_list)\n",
        "print(\"Tuple:\", my_tuple)\n",
        "print(\"Dictionary:\", my_dict)\n"
      ],
      "metadata": {
        "colab": {
          "base_uri": "https://localhost:8080/"
        },
        "id": "o0iOVeCBDZcV",
        "outputId": "4cb5866c-f491-4585-a7ac-a8ece03f6845"
      },
      "execution_count": 35,
      "outputs": [
        {
          "output_type": "stream",
          "name": "stdout",
          "text": [
            "List: [1, 2, 3, 4, 5]\n",
            "Tuple: ('apple', 'banana', 'cherry')\n",
            "Dictionary: {'name': 'Alice', 'age': 30, 'city': 'Paris'}\n"
          ]
        }
      ]
    },
    {
      "cell_type": "code",
      "source": [
        "#27-Write a code to create a list of 5 random numbers between 1 and 100, sort it in ascending order, and print the result.(replaced)\n",
        "\n",
        "import random\n",
        "\n",
        "# Create a list of 5 random numbers between 1 and 100\n",
        "random_numbers = [random.randint(1, 100) for _ in range(5)]\n",
        "\n",
        "# Sort the list in ascending order\n",
        "random_numbers.sort()\n",
        "\n",
        "# Print the result\n",
        "print(\"Sorted random numbers:\", random_numbers)\n"
      ],
      "metadata": {
        "colab": {
          "base_uri": "https://localhost:8080/"
        },
        "id": "d1eGETEoDn2u",
        "outputId": "bad6dbc2-5967-412c-e327-5effb377d42e"
      },
      "execution_count": 36,
      "outputs": [
        {
          "output_type": "stream",
          "name": "stdout",
          "text": [
            "Sorted random numbers: [9, 16, 32, 69, 94]\n"
          ]
        }
      ]
    },
    {
      "cell_type": "code",
      "source": [
        "#28-Write a code to create a list with strings and print the element at the third index.\n",
        "\n",
        "# Create a list with strings\n",
        "words = [\"apple\", \"banana\", \"cherry\", \"date\", \"raspberry\"]\n",
        "\n",
        "# Print the element at the third index\n",
        "print(words[3])\n"
      ],
      "metadata": {
        "colab": {
          "base_uri": "https://localhost:8080/"
        },
        "id": "7L1MF4_VEJSl",
        "outputId": "6bb6eda3-5f20-4669-d0e6-802b07b6bdf3"
      },
      "execution_count": 37,
      "outputs": [
        {
          "output_type": "stream",
          "name": "stdout",
          "text": [
            "date\n"
          ]
        }
      ]
    },
    {
      "cell_type": "code",
      "source": [
        "#29- Write a code to combine two dictionaries into one and print the result.\n",
        "\n",
        "dict1 = {'a': 1, 'b': 2}\n",
        "dict2 = {'c': 3, 'd': 4}\n",
        "\n",
        "# Combine the dictionaries\n",
        "combined_dict = {**dict1, **dict2}\n",
        "\n",
        "# Print the result\n",
        "print(combined_dict)\n"
      ],
      "metadata": {
        "colab": {
          "base_uri": "https://localhost:8080/"
        },
        "id": "iGCsMFNqElgR",
        "outputId": "819c42cc-fba1-4066-fe17-95e8d451c50e"
      },
      "execution_count": 38,
      "outputs": [
        {
          "output_type": "stream",
          "name": "stdout",
          "text": [
            "{'a': 1, 'b': 2, 'c': 3, 'd': 4}\n"
          ]
        }
      ]
    },
    {
      "cell_type": "code",
      "source": [
        "#30-Write a code to convert a list of strings into a set.\n",
        "\n",
        "# Create a list of strings\n",
        "string_list = [\"Chiliflake\", \"sauce\", \"peprika\", \"pizza\"]\n",
        "\n",
        "# Convert the list to a set\n",
        "string_set = set(string_list)\n",
        "\n",
        "# Print the set\n",
        "print(string_set)\n"
      ],
      "metadata": {
        "colab": {
          "base_uri": "https://localhost:8080/"
        },
        "id": "sFwuWdV5FCzm",
        "outputId": "146e65dd-c3e1-40a2-cd42-0ceb177da061"
      },
      "execution_count": 39,
      "outputs": [
        {
          "output_type": "stream",
          "name": "stdout",
          "text": [
            "{'Chiliflake', 'peprika', 'pizza', 'sauce'}\n"
          ]
        }
      ]
    }
  ]
}